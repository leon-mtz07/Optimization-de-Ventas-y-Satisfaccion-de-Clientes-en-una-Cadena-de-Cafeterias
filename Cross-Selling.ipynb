{
 "cells": [
  {
   "metadata": {},
   "cell_type": "markdown",
   "source": [
    "# Cross-Selling\n",
    "\n",
    "Se van a ver las posibles combinaciones más frecuentes de lo que pide la gente"
   ],
   "id": "cb335173e7c9ca9"
  },
  {
   "cell_type": "code",
   "id": "initial_id",
   "metadata": {
    "collapsed": true,
    "ExecuteTime": {
     "end_time": "2025-05-09T23:37:31.517197Z",
     "start_time": "2025-05-09T23:37:31.507709Z"
    }
   },
   "source": "import pandas as pd",
   "outputs": [],
   "execution_count": 5
  },
  {
   "metadata": {},
   "cell_type": "markdown",
   "source": "## Se lee el archivo csv",
   "id": "ef24730d23c4b6a0"
  },
  {
   "metadata": {
    "ExecuteTime": {
     "end_time": "2025-05-09T23:37:31.591646Z",
     "start_time": "2025-05-09T23:37:31.556644Z"
    }
   },
   "cell_type": "code",
   "source": [
    "df = pd.read_csv('data/sales_clean.csv')\n",
    "df"
   ],
   "id": "ed723b60f0d729e3",
   "outputs": [
    {
     "data": {
      "text/plain": [
       "                  location        name category  price  cost  utility  \\\n",
       "0      University District  Iced Mocha   Coffee   5.19  2.71     2.48   \n",
       "1       Financial District    Sandwich     Food   2.83  1.48     1.35   \n",
       "2                  Suburbs  Cheesecake   Bakery   2.82  1.47     1.35   \n",
       "3      University District  Cheesecake   Bakery   2.82  1.47     1.35   \n",
       "4                  Suburbs    Smoothie     Food   3.94  2.06     1.88   \n",
       "...                    ...         ...      ...    ...   ...      ...   \n",
       "14995             Downtown       Salad     Food   3.37  1.76     1.61   \n",
       "14996              Suburbs   Americano   Coffee   4.69  2.45     2.24   \n",
       "14997                 Mall        Wrap     Food   4.36  2.28     2.08   \n",
       "14998   Financial District        Wrap     Food   4.36  2.28     2.08   \n",
       "14999   Financial District    Espresso   Coffee   3.69  1.93     1.76   \n",
       "\n",
       "       quantity  total  total_utility  Year     Month   Day_name  Day  Hour  \\\n",
       "0             2  10.38           4.96  2024   January    Tuesday    2    21   \n",
       "1             1   2.83           1.35  2024   January   Thursday   18    21   \n",
       "2             1   2.82           1.35  2024     March     Monday   18     5   \n",
       "3             1   2.82           1.35  2024   January     Monday    1    13   \n",
       "4             1   3.94           1.88  2024     March  Wednesday    6     6   \n",
       "...         ...    ...            ...   ...       ...        ...  ...   ...   \n",
       "14995         1   3.37           1.61  2024   January     Monday    8    10   \n",
       "14996         3  14.07           6.72  2024   January  Wednesday    3    22   \n",
       "14997         2   8.72           4.16  2024     March     Sunday    3    21   \n",
       "14998         2   8.72           4.16  2024     March     Friday   22     9   \n",
       "14999         2   7.38           3.52  2024  February     Friday   23    11   \n",
       "\n",
       "            sale_timestamp  \n",
       "0      2024-01-02 21:52:00  \n",
       "1      2024-01-18 21:25:00  \n",
       "2      2024-03-18 05:13:00  \n",
       "3      2024-01-01 13:57:00  \n",
       "4      2024-03-06 06:50:00  \n",
       "...                    ...  \n",
       "14995  2024-01-08 10:38:00  \n",
       "14996  2024-01-03 22:14:00  \n",
       "14997  2024-03-03 21:57:00  \n",
       "14998  2024-03-22 09:09:00  \n",
       "14999  2024-02-23 11:58:00  \n",
       "\n",
       "[15000 rows x 15 columns]"
      ],
      "text/html": [
       "<div>\n",
       "<style scoped>\n",
       "    .dataframe tbody tr th:only-of-type {\n",
       "        vertical-align: middle;\n",
       "    }\n",
       "\n",
       "    .dataframe tbody tr th {\n",
       "        vertical-align: top;\n",
       "    }\n",
       "\n",
       "    .dataframe thead th {\n",
       "        text-align: right;\n",
       "    }\n",
       "</style>\n",
       "<table border=\"1\" class=\"dataframe\">\n",
       "  <thead>\n",
       "    <tr style=\"text-align: right;\">\n",
       "      <th></th>\n",
       "      <th>location</th>\n",
       "      <th>name</th>\n",
       "      <th>category</th>\n",
       "      <th>price</th>\n",
       "      <th>cost</th>\n",
       "      <th>utility</th>\n",
       "      <th>quantity</th>\n",
       "      <th>total</th>\n",
       "      <th>total_utility</th>\n",
       "      <th>Year</th>\n",
       "      <th>Month</th>\n",
       "      <th>Day_name</th>\n",
       "      <th>Day</th>\n",
       "      <th>Hour</th>\n",
       "      <th>sale_timestamp</th>\n",
       "    </tr>\n",
       "  </thead>\n",
       "  <tbody>\n",
       "    <tr>\n",
       "      <th>0</th>\n",
       "      <td>University District</td>\n",
       "      <td>Iced Mocha</td>\n",
       "      <td>Coffee</td>\n",
       "      <td>5.19</td>\n",
       "      <td>2.71</td>\n",
       "      <td>2.48</td>\n",
       "      <td>2</td>\n",
       "      <td>10.38</td>\n",
       "      <td>4.96</td>\n",
       "      <td>2024</td>\n",
       "      <td>January</td>\n",
       "      <td>Tuesday</td>\n",
       "      <td>2</td>\n",
       "      <td>21</td>\n",
       "      <td>2024-01-02 21:52:00</td>\n",
       "    </tr>\n",
       "    <tr>\n",
       "      <th>1</th>\n",
       "      <td>Financial District</td>\n",
       "      <td>Sandwich</td>\n",
       "      <td>Food</td>\n",
       "      <td>2.83</td>\n",
       "      <td>1.48</td>\n",
       "      <td>1.35</td>\n",
       "      <td>1</td>\n",
       "      <td>2.83</td>\n",
       "      <td>1.35</td>\n",
       "      <td>2024</td>\n",
       "      <td>January</td>\n",
       "      <td>Thursday</td>\n",
       "      <td>18</td>\n",
       "      <td>21</td>\n",
       "      <td>2024-01-18 21:25:00</td>\n",
       "    </tr>\n",
       "    <tr>\n",
       "      <th>2</th>\n",
       "      <td>Suburbs</td>\n",
       "      <td>Cheesecake</td>\n",
       "      <td>Bakery</td>\n",
       "      <td>2.82</td>\n",
       "      <td>1.47</td>\n",
       "      <td>1.35</td>\n",
       "      <td>1</td>\n",
       "      <td>2.82</td>\n",
       "      <td>1.35</td>\n",
       "      <td>2024</td>\n",
       "      <td>March</td>\n",
       "      <td>Monday</td>\n",
       "      <td>18</td>\n",
       "      <td>5</td>\n",
       "      <td>2024-03-18 05:13:00</td>\n",
       "    </tr>\n",
       "    <tr>\n",
       "      <th>3</th>\n",
       "      <td>University District</td>\n",
       "      <td>Cheesecake</td>\n",
       "      <td>Bakery</td>\n",
       "      <td>2.82</td>\n",
       "      <td>1.47</td>\n",
       "      <td>1.35</td>\n",
       "      <td>1</td>\n",
       "      <td>2.82</td>\n",
       "      <td>1.35</td>\n",
       "      <td>2024</td>\n",
       "      <td>January</td>\n",
       "      <td>Monday</td>\n",
       "      <td>1</td>\n",
       "      <td>13</td>\n",
       "      <td>2024-01-01 13:57:00</td>\n",
       "    </tr>\n",
       "    <tr>\n",
       "      <th>4</th>\n",
       "      <td>Suburbs</td>\n",
       "      <td>Smoothie</td>\n",
       "      <td>Food</td>\n",
       "      <td>3.94</td>\n",
       "      <td>2.06</td>\n",
       "      <td>1.88</td>\n",
       "      <td>1</td>\n",
       "      <td>3.94</td>\n",
       "      <td>1.88</td>\n",
       "      <td>2024</td>\n",
       "      <td>March</td>\n",
       "      <td>Wednesday</td>\n",
       "      <td>6</td>\n",
       "      <td>6</td>\n",
       "      <td>2024-03-06 06:50:00</td>\n",
       "    </tr>\n",
       "    <tr>\n",
       "      <th>...</th>\n",
       "      <td>...</td>\n",
       "      <td>...</td>\n",
       "      <td>...</td>\n",
       "      <td>...</td>\n",
       "      <td>...</td>\n",
       "      <td>...</td>\n",
       "      <td>...</td>\n",
       "      <td>...</td>\n",
       "      <td>...</td>\n",
       "      <td>...</td>\n",
       "      <td>...</td>\n",
       "      <td>...</td>\n",
       "      <td>...</td>\n",
       "      <td>...</td>\n",
       "      <td>...</td>\n",
       "    </tr>\n",
       "    <tr>\n",
       "      <th>14995</th>\n",
       "      <td>Downtown</td>\n",
       "      <td>Salad</td>\n",
       "      <td>Food</td>\n",
       "      <td>3.37</td>\n",
       "      <td>1.76</td>\n",
       "      <td>1.61</td>\n",
       "      <td>1</td>\n",
       "      <td>3.37</td>\n",
       "      <td>1.61</td>\n",
       "      <td>2024</td>\n",
       "      <td>January</td>\n",
       "      <td>Monday</td>\n",
       "      <td>8</td>\n",
       "      <td>10</td>\n",
       "      <td>2024-01-08 10:38:00</td>\n",
       "    </tr>\n",
       "    <tr>\n",
       "      <th>14996</th>\n",
       "      <td>Suburbs</td>\n",
       "      <td>Americano</td>\n",
       "      <td>Coffee</td>\n",
       "      <td>4.69</td>\n",
       "      <td>2.45</td>\n",
       "      <td>2.24</td>\n",
       "      <td>3</td>\n",
       "      <td>14.07</td>\n",
       "      <td>6.72</td>\n",
       "      <td>2024</td>\n",
       "      <td>January</td>\n",
       "      <td>Wednesday</td>\n",
       "      <td>3</td>\n",
       "      <td>22</td>\n",
       "      <td>2024-01-03 22:14:00</td>\n",
       "    </tr>\n",
       "    <tr>\n",
       "      <th>14997</th>\n",
       "      <td>Mall</td>\n",
       "      <td>Wrap</td>\n",
       "      <td>Food</td>\n",
       "      <td>4.36</td>\n",
       "      <td>2.28</td>\n",
       "      <td>2.08</td>\n",
       "      <td>2</td>\n",
       "      <td>8.72</td>\n",
       "      <td>4.16</td>\n",
       "      <td>2024</td>\n",
       "      <td>March</td>\n",
       "      <td>Sunday</td>\n",
       "      <td>3</td>\n",
       "      <td>21</td>\n",
       "      <td>2024-03-03 21:57:00</td>\n",
       "    </tr>\n",
       "    <tr>\n",
       "      <th>14998</th>\n",
       "      <td>Financial District</td>\n",
       "      <td>Wrap</td>\n",
       "      <td>Food</td>\n",
       "      <td>4.36</td>\n",
       "      <td>2.28</td>\n",
       "      <td>2.08</td>\n",
       "      <td>2</td>\n",
       "      <td>8.72</td>\n",
       "      <td>4.16</td>\n",
       "      <td>2024</td>\n",
       "      <td>March</td>\n",
       "      <td>Friday</td>\n",
       "      <td>22</td>\n",
       "      <td>9</td>\n",
       "      <td>2024-03-22 09:09:00</td>\n",
       "    </tr>\n",
       "    <tr>\n",
       "      <th>14999</th>\n",
       "      <td>Financial District</td>\n",
       "      <td>Espresso</td>\n",
       "      <td>Coffee</td>\n",
       "      <td>3.69</td>\n",
       "      <td>1.93</td>\n",
       "      <td>1.76</td>\n",
       "      <td>2</td>\n",
       "      <td>7.38</td>\n",
       "      <td>3.52</td>\n",
       "      <td>2024</td>\n",
       "      <td>February</td>\n",
       "      <td>Friday</td>\n",
       "      <td>23</td>\n",
       "      <td>11</td>\n",
       "      <td>2024-02-23 11:58:00</td>\n",
       "    </tr>\n",
       "  </tbody>\n",
       "</table>\n",
       "<p>15000 rows × 15 columns</p>\n",
       "</div>"
      ]
     },
     "execution_count": 6,
     "metadata": {},
     "output_type": "execute_result"
    }
   ],
   "execution_count": 6
  },
  {
   "metadata": {},
   "cell_type": "markdown",
   "source": "## Convertimos a tipo de dato 'fecha'",
   "id": "37f85773688dd501"
  },
  {
   "metadata": {
    "ExecuteTime": {
     "end_time": "2025-05-09T23:37:31.632239Z",
     "start_time": "2025-05-09T23:37:31.623928Z"
    }
   },
   "cell_type": "code",
   "source": [
    "df['sale_timestamp'] = pd.to_datetime(df['sale_timestamp'])\n",
    "df['sale_timestamp'].dtype"
   ],
   "id": "959edc06a0e3ddcf",
   "outputs": [
    {
     "data": {
      "text/plain": [
       "dtype('<M8[ns]')"
      ]
     },
     "execution_count": 7,
     "metadata": {},
     "output_type": "execute_result"
    }
   ],
   "execution_count": 7
  },
  {
   "metadata": {},
   "cell_type": "markdown",
   "source": "## Se inicia con el proceso de Cross-Selling",
   "id": "602fe977d2524c6d"
  },
  {
   "metadata": {
    "ExecuteTime": {
     "end_time": "2025-05-09T23:38:46.053931Z",
     "start_time": "2025-05-09T23:38:46.038296Z"
    }
   },
   "cell_type": "code",
   "source": [
    "# Se crea una columna de fecha redondeado hasta minutos\n",
    "df['sale_date'] = df['sale_timestamp'].dt.date"
   ],
   "id": "99f9280d482189f7",
   "outputs": [],
   "execution_count": 9
  },
  {
   "metadata": {
    "ExecuteTime": {
     "end_time": "2025-05-09T23:38:49.579259Z",
     "start_time": "2025-05-09T23:38:49.485807Z"
    }
   },
   "cell_type": "code",
   "source": [
    "# Se crea un índice unico, que ayuda a agrupar productos\n",
    "df['transaction_id'] = df['location'] + '_' + df['sale_date'].astype(str) + '_' + df['Hour'].astype(str)\n",
    "\n",
    "# Se crea una tabla pivot agrupando los productos por su índice, para saber cuantos han vendido en esa fecha y lugar exacto\n",
    "basket = df.groupby(['transaction_id', 'name'])['quantity'].sum().unstack().fillna(0)\n",
    "\n",
    "# Se pasa la tabla en código binario, porque el algoritmo solo trabaja en código binario\n",
    "basket_sets = basket.applymap(lambda x: 1 if x > 0 else 0)"
   ],
   "id": "b4aeb2a81a6fbcf9",
   "outputs": [
    {
     "name": "stderr",
     "output_type": "stream",
     "text": [
      "/var/folders/1w/_fkk8d6978j_747fm_9qxcww0000gn/T/ipykernel_1561/1854172550.py:8: FutureWarning: DataFrame.applymap has been deprecated. Use DataFrame.map instead.\n",
      "  basket_sets = basket.applymap(lambda x: 1 if x > 0 else 0)\n"
     ]
    }
   ],
   "execution_count": 10
  },
  {
   "metadata": {
    "ExecuteTime": {
     "end_time": "2025-05-09T23:39:59.878646Z",
     "start_time": "2025-05-09T23:39:59.844110Z"
    }
   },
   "cell_type": "code",
   "source": [
    "# Se importan las funciones de la libreria\n",
    "import warnings\n",
    "from mlxtend.frequent_patterns import apriori, association_rules\n",
    "\n",
    "# Ignoramos los warnings\n",
    "warnings.filterwarnings(\"ignore\", category=DeprecationWarning)\n",
    "\n",
    "# Buscar combinaciones con al menos 1% de soporte\n",
    "frequent_itemsets = apriori(basket_sets, min_support=0.01, use_colnames=True, verbose=1)\n",
    "\n",
    "# Generar reglas de asociación\n",
    "rules = association_rules(frequent_itemsets, metric=\"lift\", min_threshold=1)\n",
    "\n",
    "# Ver reglas ordenadas por confianza\n",
    "rules.sort_values(by=\"confidence\", ascending=False).head()"
   ],
   "id": "1586631e5d3f6624",
   "outputs": [
    {
     "name": "stdout",
     "output_type": "stream",
     "text": [
      "Processing 380 combinations | Sampling itemset size 2\n"
     ]
    },
    {
     "data": {
      "text/plain": [
       "Empty DataFrame\n",
       "Columns: [antecedents, consequents, antecedent support, consequent support, support, confidence, lift, representativity, leverage, conviction, zhangs_metric, jaccard, certainty, kulczynski]\n",
       "Index: []"
      ],
      "text/html": [
       "<div>\n",
       "<style scoped>\n",
       "    .dataframe tbody tr th:only-of-type {\n",
       "        vertical-align: middle;\n",
       "    }\n",
       "\n",
       "    .dataframe tbody tr th {\n",
       "        vertical-align: top;\n",
       "    }\n",
       "\n",
       "    .dataframe thead th {\n",
       "        text-align: right;\n",
       "    }\n",
       "</style>\n",
       "<table border=\"1\" class=\"dataframe\">\n",
       "  <thead>\n",
       "    <tr style=\"text-align: right;\">\n",
       "      <th></th>\n",
       "      <th>antecedents</th>\n",
       "      <th>consequents</th>\n",
       "      <th>antecedent support</th>\n",
       "      <th>consequent support</th>\n",
       "      <th>support</th>\n",
       "      <th>confidence</th>\n",
       "      <th>lift</th>\n",
       "      <th>representativity</th>\n",
       "      <th>leverage</th>\n",
       "      <th>conviction</th>\n",
       "      <th>zhangs_metric</th>\n",
       "      <th>jaccard</th>\n",
       "      <th>certainty</th>\n",
       "      <th>kulczynski</th>\n",
       "    </tr>\n",
       "  </thead>\n",
       "  <tbody>\n",
       "  </tbody>\n",
       "</table>\n",
       "</div>"
      ]
     },
     "execution_count": 13,
     "metadata": {},
     "output_type": "execute_result"
    }
   ],
   "execution_count": 13
  }
 ],
 "metadata": {
  "kernelspec": {
   "display_name": "Python 3",
   "language": "python",
   "name": "python3"
  },
  "language_info": {
   "codemirror_mode": {
    "name": "ipython",
    "version": 2
   },
   "file_extension": ".py",
   "mimetype": "text/x-python",
   "name": "python",
   "nbconvert_exporter": "python",
   "pygments_lexer": "ipython2",
   "version": "2.7.6"
  }
 },
 "nbformat": 4,
 "nbformat_minor": 5
}
