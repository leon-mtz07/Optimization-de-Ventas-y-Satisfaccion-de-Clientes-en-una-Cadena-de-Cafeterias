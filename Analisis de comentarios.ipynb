{
 "cells": [
  {
   "metadata": {},
   "cell_type": "markdown",
   "source": "# Análisis de comentarios",
   "id": "ea3bf536bba5ff2a"
  },
  {
   "cell_type": "code",
   "id": "initial_id",
   "metadata": {
    "collapsed": true,
    "ExecuteTime": {
     "end_time": "2025-05-10T19:40:48.686432Z",
     "start_time": "2025-05-10T19:40:48.678638Z"
    }
   },
   "source": [
    "import pandas as pd\n",
    "import seaborn as sns\n",
    "import re\n",
    "from unidecode import unidecode\n",
    "from nltk.corpus import stopwords\n",
    "import nltk"
   ],
   "outputs": [],
   "execution_count": 88
  },
  {
   "metadata": {
    "ExecuteTime": {
     "end_time": "2025-05-10T19:40:48.736943Z",
     "start_time": "2025-05-10T19:40:48.724Z"
    }
   },
   "cell_type": "code",
   "source": [
    "df = pd.read_csv('data/feedback_clean.csv')\n",
    "df"
   ],
   "id": "36b482e5b9bebfdd",
   "outputs": [
    {
     "data": {
      "text/plain": [
       "                 location              comment  rating feedback_date\n",
       "0                    Mall  Loved the croissant       4    2024-03-09\n",
       "1     University District       Great service!       4    2024-02-19\n",
       "2                Downtown    Line was too long       5    2024-04-23\n",
       "3     University District        Not impressed       5    2024-04-24\n",
       "4      Financial District        Wifi was slow       5    2024-01-13\n",
       "...                   ...                  ...     ...           ...\n",
       "2995                 Mall           Very clean       3    2024-02-13\n",
       "2996              Suburbs        Not impressed       4    2024-03-02\n",
       "2997   Financial District           Very clean       3    2024-04-16\n",
       "2998                 Mall      Coffee was cold       5    2024-01-13\n",
       "2999   Financial District     Friendly barista       4    2024-03-26\n",
       "\n",
       "[3000 rows x 4 columns]"
      ],
      "text/html": [
       "<div>\n",
       "<style scoped>\n",
       "    .dataframe tbody tr th:only-of-type {\n",
       "        vertical-align: middle;\n",
       "    }\n",
       "\n",
       "    .dataframe tbody tr th {\n",
       "        vertical-align: top;\n",
       "    }\n",
       "\n",
       "    .dataframe thead th {\n",
       "        text-align: right;\n",
       "    }\n",
       "</style>\n",
       "<table border=\"1\" class=\"dataframe\">\n",
       "  <thead>\n",
       "    <tr style=\"text-align: right;\">\n",
       "      <th></th>\n",
       "      <th>location</th>\n",
       "      <th>comment</th>\n",
       "      <th>rating</th>\n",
       "      <th>feedback_date</th>\n",
       "    </tr>\n",
       "  </thead>\n",
       "  <tbody>\n",
       "    <tr>\n",
       "      <th>0</th>\n",
       "      <td>Mall</td>\n",
       "      <td>Loved the croissant</td>\n",
       "      <td>4</td>\n",
       "      <td>2024-03-09</td>\n",
       "    </tr>\n",
       "    <tr>\n",
       "      <th>1</th>\n",
       "      <td>University District</td>\n",
       "      <td>Great service!</td>\n",
       "      <td>4</td>\n",
       "      <td>2024-02-19</td>\n",
       "    </tr>\n",
       "    <tr>\n",
       "      <th>2</th>\n",
       "      <td>Downtown</td>\n",
       "      <td>Line was too long</td>\n",
       "      <td>5</td>\n",
       "      <td>2024-04-23</td>\n",
       "    </tr>\n",
       "    <tr>\n",
       "      <th>3</th>\n",
       "      <td>University District</td>\n",
       "      <td>Not impressed</td>\n",
       "      <td>5</td>\n",
       "      <td>2024-04-24</td>\n",
       "    </tr>\n",
       "    <tr>\n",
       "      <th>4</th>\n",
       "      <td>Financial District</td>\n",
       "      <td>Wifi was slow</td>\n",
       "      <td>5</td>\n",
       "      <td>2024-01-13</td>\n",
       "    </tr>\n",
       "    <tr>\n",
       "      <th>...</th>\n",
       "      <td>...</td>\n",
       "      <td>...</td>\n",
       "      <td>...</td>\n",
       "      <td>...</td>\n",
       "    </tr>\n",
       "    <tr>\n",
       "      <th>2995</th>\n",
       "      <td>Mall</td>\n",
       "      <td>Very clean</td>\n",
       "      <td>3</td>\n",
       "      <td>2024-02-13</td>\n",
       "    </tr>\n",
       "    <tr>\n",
       "      <th>2996</th>\n",
       "      <td>Suburbs</td>\n",
       "      <td>Not impressed</td>\n",
       "      <td>4</td>\n",
       "      <td>2024-03-02</td>\n",
       "    </tr>\n",
       "    <tr>\n",
       "      <th>2997</th>\n",
       "      <td>Financial District</td>\n",
       "      <td>Very clean</td>\n",
       "      <td>3</td>\n",
       "      <td>2024-04-16</td>\n",
       "    </tr>\n",
       "    <tr>\n",
       "      <th>2998</th>\n",
       "      <td>Mall</td>\n",
       "      <td>Coffee was cold</td>\n",
       "      <td>5</td>\n",
       "      <td>2024-01-13</td>\n",
       "    </tr>\n",
       "    <tr>\n",
       "      <th>2999</th>\n",
       "      <td>Financial District</td>\n",
       "      <td>Friendly barista</td>\n",
       "      <td>4</td>\n",
       "      <td>2024-03-26</td>\n",
       "    </tr>\n",
       "  </tbody>\n",
       "</table>\n",
       "<p>3000 rows × 4 columns</p>\n",
       "</div>"
      ]
     },
     "execution_count": 89,
     "metadata": {},
     "output_type": "execute_result"
    }
   ],
   "execution_count": 89
  },
  {
   "metadata": {
    "ExecuteTime": {
     "end_time": "2025-05-10T19:40:48.781164Z",
     "start_time": "2025-05-10T19:40:48.774705Z"
    }
   },
   "cell_type": "code",
   "source": [
    "# Cambiando a tipo datetime\n",
    "df['feedback_date'] = pd.to_datetime(df['feedback_date'])\n",
    "df['feedback_date'].dtype"
   ],
   "id": "fee868aa6b89a7a4",
   "outputs": [
    {
     "data": {
      "text/plain": [
       "dtype('<M8[ns]')"
      ]
     },
     "execution_count": 90,
     "metadata": {},
     "output_type": "execute_result"
    }
   ],
   "execution_count": 90
  },
  {
   "metadata": {},
   "cell_type": "markdown",
   "source": "## Análisis General del Rating",
   "id": "e4dfe0610a5557e9"
  },
  {
   "metadata": {
    "ExecuteTime": {
     "end_time": "2025-05-10T19:40:48.863908Z",
     "start_time": "2025-05-10T19:40:48.858386Z"
    }
   },
   "cell_type": "code",
   "source": [
    "# Ver la calificación promedio de cada sucursal\n",
    "df.groupby('location')['rating'].mean().round(2)"
   ],
   "id": "f387d008a7e59a02",
   "outputs": [
    {
     "data": {
      "text/plain": [
       "location\n",
       "Downtown               3.69\n",
       "Financial District     3.66\n",
       "Mall                   3.64\n",
       "Suburbs                3.73\n",
       "University District    3.68\n",
       "Name: rating, dtype: float64"
      ]
     },
     "execution_count": 91,
     "metadata": {},
     "output_type": "execute_result"
    }
   ],
   "execution_count": 91
  },
  {
   "metadata": {
    "ExecuteTime": {
     "end_time": "2025-05-10T19:40:48.945616Z",
     "start_time": "2025-05-10T19:40:48.941404Z"
    }
   },
   "cell_type": "code",
   "source": [
    "# Ver la información general de calificación del café\n",
    "df['rating'].describe().round(2)"
   ],
   "id": "162fb8338cb5fd6f",
   "outputs": [
    {
     "data": {
      "text/plain": [
       "count    3000.00\n",
       "mean        3.68\n",
       "std         1.10\n",
       "min         1.00\n",
       "25%         3.00\n",
       "50%         4.00\n",
       "75%         4.00\n",
       "max         5.00\n",
       "Name: rating, dtype: float64"
      ]
     },
     "execution_count": 92,
     "metadata": {},
     "output_type": "execute_result"
    }
   ],
   "execution_count": 92
  },
  {
   "metadata": {
    "ExecuteTime": {
     "end_time": "2025-05-10T19:40:49.115050Z",
     "start_time": "2025-05-10T19:40:49.023299Z"
    }
   },
   "cell_type": "code",
   "source": [
    "# Ver de forma gráfica la cantidad de reseñas\n",
    "sns.histplot(data=df, x='rating', line_kws={'color': 'green'}, color='green', alpha=.7)"
   ],
   "id": "1987114355673843",
   "outputs": [
    {
     "data": {
      "text/plain": [
       "<Axes: xlabel='rating', ylabel='Count'>"
      ]
     },
     "execution_count": 93,
     "metadata": {},
     "output_type": "execute_result"
    },
    {
     "data": {
      "text/plain": [
       "<Figure size 640x480 with 1 Axes>"
      ],
      "image/png": "[encoded data removed]"
     },
     "metadata": {},
     "output_type": "display_data"
    }
   ],
   "execution_count": 93
  },
  {
   "metadata": {
    "ExecuteTime": {
     "end_time": "2025-05-10T19:40:49.154738Z",
     "start_time": "2025-05-10T19:40:49.148377Z"
    }
   },
   "cell_type": "code",
   "source": [
    "# Vemos la cantidad estrellas que la gente ha puesto en el rating\n",
    "df_ratings = df['rating'].value_counts(sort=False)\n",
    "df_ratings = df_ratings.reset_index()\n",
    "df_ratings"
   ],
   "id": "dc69757291402294",
   "outputs": [
    {
     "data": {
      "text/plain": [
       "   rating  count\n",
       "0       4   1183\n",
       "1       5    735\n",
       "2       3    619\n",
       "3       2    315\n",
       "4       1    148"
      ],
      "text/html": [
       "<div>\n",
       "<style scoped>\n",
       "    .dataframe tbody tr th:only-of-type {\n",
       "        vertical-align: middle;\n",
       "    }\n",
       "\n",
       "    .dataframe tbody tr th {\n",
       "        vertical-align: top;\n",
       "    }\n",
       "\n",
       "    .dataframe thead th {\n",
       "        text-align: right;\n",
       "    }\n",
       "</style>\n",
       "<table border=\"1\" class=\"dataframe\">\n",
       "  <thead>\n",
       "    <tr style=\"text-align: right;\">\n",
       "      <th></th>\n",
       "      <th>rating</th>\n",
       "      <th>count</th>\n",
       "    </tr>\n",
       "  </thead>\n",
       "  <tbody>\n",
       "    <tr>\n",
       "      <th>0</th>\n",
       "      <td>4</td>\n",
       "      <td>1183</td>\n",
       "    </tr>\n",
       "    <tr>\n",
       "      <th>1</th>\n",
       "      <td>5</td>\n",
       "      <td>735</td>\n",
       "    </tr>\n",
       "    <tr>\n",
       "      <th>2</th>\n",
       "      <td>3</td>\n",
       "      <td>619</td>\n",
       "    </tr>\n",
       "    <tr>\n",
       "      <th>3</th>\n",
       "      <td>2</td>\n",
       "      <td>315</td>\n",
       "    </tr>\n",
       "    <tr>\n",
       "      <th>4</th>\n",
       "      <td>1</td>\n",
       "      <td>148</td>\n",
       "    </tr>\n",
       "  </tbody>\n",
       "</table>\n",
       "</div>"
      ]
     },
     "execution_count": 94,
     "metadata": {},
     "output_type": "execute_result"
    }
   ],
   "execution_count": 94
  },
  {
   "metadata": {
    "ExecuteTime": {
     "end_time": "2025-05-10T19:40:49.208084Z",
     "start_time": "2025-05-10T19:40:49.200821Z"
    }
   },
   "cell_type": "code",
   "source": [
    "# Aquí vemos su porcentaje\n",
    "df_ratings['%'] = round(df_ratings['count'] / df_ratings['count'].sum() * 100, 2)\n",
    "df_ratings"
   ],
   "id": "d11243c27239f3d0",
   "outputs": [
    {
     "data": {
      "text/plain": [
       "   rating  count      %\n",
       "0       4   1183  39.43\n",
       "1       5    735  24.50\n",
       "2       3    619  20.63\n",
       "3       2    315  10.50\n",
       "4       1    148   4.93"
      ],
      "text/html": [
       "<div>\n",
       "<style scoped>\n",
       "    .dataframe tbody tr th:only-of-type {\n",
       "        vertical-align: middle;\n",
       "    }\n",
       "\n",
       "    .dataframe tbody tr th {\n",
       "        vertical-align: top;\n",
       "    }\n",
       "\n",
       "    .dataframe thead th {\n",
       "        text-align: right;\n",
       "    }\n",
       "</style>\n",
       "<table border=\"1\" class=\"dataframe\">\n",
       "  <thead>\n",
       "    <tr style=\"text-align: right;\">\n",
       "      <th></th>\n",
       "      <th>rating</th>\n",
       "      <th>count</th>\n",
       "      <th>%</th>\n",
       "    </tr>\n",
       "  </thead>\n",
       "  <tbody>\n",
       "    <tr>\n",
       "      <th>0</th>\n",
       "      <td>4</td>\n",
       "      <td>1183</td>\n",
       "      <td>39.43</td>\n",
       "    </tr>\n",
       "    <tr>\n",
       "      <th>1</th>\n",
       "      <td>5</td>\n",
       "      <td>735</td>\n",
       "      <td>24.50</td>\n",
       "    </tr>\n",
       "    <tr>\n",
       "      <th>2</th>\n",
       "      <td>3</td>\n",
       "      <td>619</td>\n",
       "      <td>20.63</td>\n",
       "    </tr>\n",
       "    <tr>\n",
       "      <th>3</th>\n",
       "      <td>2</td>\n",
       "      <td>315</td>\n",
       "      <td>10.50</td>\n",
       "    </tr>\n",
       "    <tr>\n",
       "      <th>4</th>\n",
       "      <td>1</td>\n",
       "      <td>148</td>\n",
       "      <td>4.93</td>\n",
       "    </tr>\n",
       "  </tbody>\n",
       "</table>\n",
       "</div>"
      ]
     },
     "execution_count": 95,
     "metadata": {},
     "output_type": "execute_result"
    }
   ],
   "execution_count": 95
  },
  {
   "metadata": {},
   "cell_type": "markdown",
   "source": "## Arreglando la columna comment para el feedback",
   "id": "2d991238202296e8"
  },
  {
   "metadata": {
    "ExecuteTime": {
     "end_time": "2025-05-10T19:45:49.596545Z",
     "start_time": "2025-05-10T19:40:49.270551Z"
    }
   },
   "cell_type": "code",
   "source": [
    "# Descargando las stopwords\n",
    "nltk.download('stopwords')\n",
    "\n",
    "# Stopwords\n",
    "stop_words = set(stopwords.words('english'))"
   ],
   "id": "11a3f5f272e501b5",
   "outputs": [
    {
     "name": "stderr",
     "output_type": "stream",
     "text": [
      "[nltk_data] Downloading package stopwords to\n",
      "[nltk_data]     /Users/leon_07/nltk_data...\n",
      "[nltk_data]   Package stopwords is already up-to-date!\n"
     ]
    }
   ],
   "execution_count": 96
  },
  {
   "metadata": {
    "ExecuteTime": {
     "end_time": "2025-05-10T19:45:49.676643Z",
     "start_time": "2025-05-10T19:45:49.673890Z"
    }
   },
   "cell_type": "code",
   "source": [
    "# Función de limpieza\n",
    "def cleaning_feedback(text):\n",
    "    # Convert text to lowercase\n",
    "    text = text.lower()\n",
    "    # Remove accents\n",
    "    text = unidecode(text)\n",
    "    # Remove punctuation and special characters\n",
    "    text = re.sub(r'[^\\w\\s]', '', text)\n",
    "    # Remove stopwords\n",
    "    words = text.split()\n",
    "    clean_words = [word for word in words if word not in stop_words]\n",
    "    return ' '.join(clean_words)"
   ],
   "id": "aaaa12708616a02e",
   "outputs": [],
   "execution_count": 97
  },
  {
   "metadata": {
    "ExecuteTime": {
     "end_time": "2025-05-10T19:45:49.752623Z",
     "start_time": "2025-05-10T19:45:49.744044Z"
    }
   },
   "cell_type": "code",
   "source": [
    "# Apply the cleaning function and overwrite the 'clean_comment' column\n",
    "df['clean_comment'] = df['comment'].apply(lambda x: cleaning_feedback(x) if isinstance(x, str) else x)"
   ],
   "id": "a6c008ae9cdc52a2",
   "outputs": [],
   "execution_count": 98
  },
  {
   "metadata": {
    "ExecuteTime": {
     "end_time": "2025-05-10T19:45:49.774373Z",
     "start_time": "2025-05-10T19:45:49.769627Z"
    }
   },
   "cell_type": "code",
   "source": "df['clean_comment'].head()",
   "id": "dcc481292b16ac9b",
   "outputs": [
    {
     "data": {
      "text/plain": [
       "0    loved croissant\n",
       "1      great service\n",
       "2          line long\n",
       "3          impressed\n",
       "4          wifi slow\n",
       "Name: clean_comment, dtype: object"
      ]
     },
     "execution_count": 99,
     "metadata": {},
     "output_type": "execute_result"
    }
   ],
   "execution_count": 99
  },
  {
   "metadata": {
    "ExecuteTime": {
     "end_time": "2025-05-10T19:45:49.833403Z",
     "start_time": "2025-05-10T19:45:49.826047Z"
    }
   },
   "cell_type": "code",
   "source": "df['clean_comment'] = df['clean_comment'].str.split()",
   "id": "d346089728af9327",
   "outputs": [],
   "execution_count": 100
  },
  {
   "metadata": {
    "ExecuteTime": {
     "end_time": "2025-05-10T19:45:49.905566Z",
     "start_time": "2025-05-10T19:45:49.893081Z"
    }
   },
   "cell_type": "code",
   "source": "df",
   "id": "6a88eb01cf574428",
   "outputs": [
    {
     "data": {
      "text/plain": [
       "                 location              comment  rating feedback_date  \\\n",
       "0                    Mall  Loved the croissant       4    2024-03-09   \n",
       "1     University District       Great service!       4    2024-02-19   \n",
       "2                Downtown    Line was too long       5    2024-04-23   \n",
       "3     University District        Not impressed       5    2024-04-24   \n",
       "4      Financial District        Wifi was slow       5    2024-01-13   \n",
       "...                   ...                  ...     ...           ...   \n",
       "2995                 Mall           Very clean       3    2024-02-13   \n",
       "2996              Suburbs        Not impressed       4    2024-03-02   \n",
       "2997   Financial District           Very clean       3    2024-04-16   \n",
       "2998                 Mall      Coffee was cold       5    2024-01-13   \n",
       "2999   Financial District     Friendly barista       4    2024-03-26   \n",
       "\n",
       "            clean_comment  \n",
       "0      [loved, croissant]  \n",
       "1        [great, service]  \n",
       "2            [line, long]  \n",
       "3             [impressed]  \n",
       "4            [wifi, slow]  \n",
       "...                   ...  \n",
       "2995              [clean]  \n",
       "2996          [impressed]  \n",
       "2997              [clean]  \n",
       "2998       [coffee, cold]  \n",
       "2999  [friendly, barista]  \n",
       "\n",
       "[3000 rows x 5 columns]"
      ],
      "text/html": [
       "<div>\n",
       "<style scoped>\n",
       "    .dataframe tbody tr th:only-of-type {\n",
       "        vertical-align: middle;\n",
       "    }\n",
       "\n",
       "    .dataframe tbody tr th {\n",
       "        vertical-align: top;\n",
       "    }\n",
       "\n",
       "    .dataframe thead th {\n",
       "        text-align: right;\n",
       "    }\n",
       "</style>\n",
       "<table border=\"1\" class=\"dataframe\">\n",
       "  <thead>\n",
       "    <tr style=\"text-align: right;\">\n",
       "      <th></th>\n",
       "      <th>location</th>\n",
       "      <th>comment</th>\n",
       "      <th>rating</th>\n",
       "      <th>feedback_date</th>\n",
       "      <th>clean_comment</th>\n",
       "    </tr>\n",
       "  </thead>\n",
       "  <tbody>\n",
       "    <tr>\n",
       "      <th>0</th>\n",
       "      <td>Mall</td>\n",
       "      <td>Loved the croissant</td>\n",
       "      <td>4</td>\n",
       "      <td>2024-03-09</td>\n",
       "      <td>[loved, croissant]</td>\n",
       "    </tr>\n",
       "    <tr>\n",
       "      <th>1</th>\n",
       "      <td>University District</td>\n",
       "      <td>Great service!</td>\n",
       "      <td>4</td>\n",
       "      <td>2024-02-19</td>\n",
       "      <td>[great, service]</td>\n",
       "    </tr>\n",
       "    <tr>\n",
       "      <th>2</th>\n",
       "      <td>Downtown</td>\n",
       "      <td>Line was too long</td>\n",
       "      <td>5</td>\n",
       "      <td>2024-04-23</td>\n",
       "      <td>[line, long]</td>\n",
       "    </tr>\n",
       "    <tr>\n",
       "      <th>3</th>\n",
       "      <td>University District</td>\n",
       "      <td>Not impressed</td>\n",
       "      <td>5</td>\n",
       "      <td>2024-04-24</td>\n",
       "      <td>[impressed]</td>\n",
       "    </tr>\n",
       "    <tr>\n",
       "      <th>4</th>\n",
       "      <td>Financial District</td>\n",
       "      <td>Wifi was slow</td>\n",
       "      <td>5</td>\n",
       "      <td>2024-01-13</td>\n",
       "      <td>[wifi, slow]</td>\n",
       "    </tr>\n",
       "    <tr>\n",
       "      <th>...</th>\n",
       "      <td>...</td>\n",
       "      <td>...</td>\n",
       "      <td>...</td>\n",
       "      <td>...</td>\n",
       "      <td>...</td>\n",
       "    </tr>\n",
       "    <tr>\n",
       "      <th>2995</th>\n",
       "      <td>Mall</td>\n",
       "      <td>Very clean</td>\n",
       "      <td>3</td>\n",
       "      <td>2024-02-13</td>\n",
       "      <td>[clean]</td>\n",
       "    </tr>\n",
       "    <tr>\n",
       "      <th>2996</th>\n",
       "      <td>Suburbs</td>\n",
       "      <td>Not impressed</td>\n",
       "      <td>4</td>\n",
       "      <td>2024-03-02</td>\n",
       "      <td>[impressed]</td>\n",
       "    </tr>\n",
       "    <tr>\n",
       "      <th>2997</th>\n",
       "      <td>Financial District</td>\n",
       "      <td>Very clean</td>\n",
       "      <td>3</td>\n",
       "      <td>2024-04-16</td>\n",
       "      <td>[clean]</td>\n",
       "    </tr>\n",
       "    <tr>\n",
       "      <th>2998</th>\n",
       "      <td>Mall</td>\n",
       "      <td>Coffee was cold</td>\n",
       "      <td>5</td>\n",
       "      <td>2024-01-13</td>\n",
       "      <td>[coffee, cold]</td>\n",
       "    </tr>\n",
       "    <tr>\n",
       "      <th>2999</th>\n",
       "      <td>Financial District</td>\n",
       "      <td>Friendly barista</td>\n",
       "      <td>4</td>\n",
       "      <td>2024-03-26</td>\n",
       "      <td>[friendly, barista]</td>\n",
       "    </tr>\n",
       "  </tbody>\n",
       "</table>\n",
       "<p>3000 rows × 5 columns</p>\n",
       "</div>"
      ]
     },
     "execution_count": 101,
     "metadata": {},
     "output_type": "execute_result"
    }
   ],
   "execution_count": 101
  },
  {
   "metadata": {},
   "cell_type": "markdown",
   "source": "## Detectar palabras clave por rating",
   "id": "a313e9d2d3886f1f"
  },
  {
   "metadata": {
    "ExecuteTime": {
     "end_time": "2025-05-10T19:45:49.958429Z",
     "start_time": "2025-05-10T19:45:49.955111Z"
    }
   },
   "cell_type": "code",
   "source": "from sklearn.feature_extraction.text import CountVectorizer",
   "id": "3ea1d29d1b29cdc3",
   "outputs": [],
   "execution_count": 102
  },
  {
   "metadata": {
    "ExecuteTime": {
     "end_time": "2025-05-10T19:45:50.016444Z",
     "start_time": "2025-05-10T19:45:50.011470Z"
    }
   },
   "cell_type": "code",
   "source": [
    "def get_key_words_per_range(data, rango):\n",
    "    comments = data[data['rating'] == rango]['clean_comment']\n",
    "\n",
    "    # Convert lists back to strings for CountVectorizer\n",
    "    comments = comments.apply(lambda x: ' '.join(x) if isinstance(x, list) else x)\n",
    "\n",
    "    vectorizer = CountVectorizer(stop_words='english')\n",
    "    X = vectorizer.fit_transform(comments)\n",
    "\n",
    "    words_sum = X.sum(axis=0)\n",
    "    freq_words = [(word, words_sum[0, idx]) for word, idx in vectorizer.vocabulary_.items()]\n",
    "    freq_words = sorted(freq_words, key=lambda x: x[1], reverse=True)\n",
    "\n",
    "    return freq_words[:10]"
   ],
   "id": "fa80f3db79103563",
   "outputs": [],
   "execution_count": 103
  },
  {
   "metadata": {
    "ExecuteTime": {
     "end_time": "2025-05-10T19:45:50.118498Z",
     "start_time": "2025-05-10T19:45:50.108568Z"
    }
   },
   "cell_type": "code",
   "source": [
    "# Vemos las palabras clave del rating 1\n",
    "get_key_words_per_range(df, 1)"
   ],
   "id": "9a019c2aa09d2a11",
   "outputs": [
    {
     "data": {
      "text/plain": [
       "[('coffee', np.int64(17)),\n",
       " ('noisy', np.int64(14)),\n",
       " ('excellent', np.int64(14)),\n",
       " ('staff', np.int64(14)),\n",
       " ('clean', np.int64(14)),\n",
       " ('tasty', np.int64(12)),\n",
       " ('food', np.int64(12)),\n",
       " ('wifi', np.int64(12)),\n",
       " ('slow', np.int64(12)),\n",
       " ('friendly', np.int64(12))]"
      ]
     },
     "execution_count": 104,
     "metadata": {},
     "output_type": "execute_result"
    }
   ],
   "execution_count": 104
  },
  {
   "metadata": {
    "ExecuteTime": {
     "end_time": "2025-05-10T19:45:50.133417Z",
     "start_time": "2025-05-10T19:45:50.129138Z"
    }
   },
   "cell_type": "code",
   "source": [
    "# Vemos las palabras clave del rating 2\n",
    "get_key_words_per_range(df, 2)"
   ],
   "id": "8e345e84e35d97c9",
   "outputs": [
    {
     "data": {
      "text/plain": [
       "[('coffee', np.int64(46)),\n",
       " ('line', np.int64(35)),\n",
       " ('long', np.int64(35)),\n",
       " ('noisy', np.int64(26)),\n",
       " ('clean', np.int64(23)),\n",
       " ('cold', np.int64(23)),\n",
       " ('best', np.int64(23)),\n",
       " ('bad', np.int64(23)),\n",
       " ('experience', np.int64(23)),\n",
       " ('great', np.int64(22))]"
      ]
     },
     "execution_count": 105,
     "metadata": {},
     "output_type": "execute_result"
    }
   ],
   "execution_count": 105
  },
  {
   "metadata": {
    "ExecuteTime": {
     "end_time": "2025-05-10T19:45:50.177746Z",
     "start_time": "2025-05-10T19:45:50.169934Z"
    }
   },
   "cell_type": "code",
   "source": [
    "# Vemos las palabras clave del rating 3\n",
    "get_key_words_per_range(df, 3)"
   ],
   "id": "3b45b59e6feb21ac",
   "outputs": [
    {
     "data": {
      "text/plain": [
       "[('coffee', np.int64(86)),\n",
       " ('friendly', np.int64(53)),\n",
       " ('barista', np.int64(53)),\n",
       " ('great', np.int64(48)),\n",
       " ('service', np.int64(48)),\n",
       " ('clean', np.int64(47)),\n",
       " ('cold', np.int64(45)),\n",
       " ('noisy', np.int64(45)),\n",
       " ('excellent', np.int64(43)),\n",
       " ('staff', np.int64(43))]"
      ]
     },
     "execution_count": 106,
     "metadata": {},
     "output_type": "execute_result"
    }
   ],
   "execution_count": 106
  },
  {
   "metadata": {
    "ExecuteTime": {
     "end_time": "2025-05-10T19:45:50.201940Z",
     "start_time": "2025-05-10T19:45:50.195295Z"
    }
   },
   "cell_type": "code",
   "source": [
    "# Vemos las palabras clave del rating 4\n",
    "get_key_words_per_range(df, 4)"
   ],
   "id": "483851955e3c1dcd",
   "outputs": [
    {
     "data": {
      "text/plain": [
       "[('coffee', np.int64(147)),\n",
       " ('impressed', np.int64(105)),\n",
       " ('tasty', np.int64(87)),\n",
       " ('food', np.int64(87)),\n",
       " ('clean', np.int64(87)),\n",
       " ('loved', np.int64(85)),\n",
       " ('croissant', np.int64(85)),\n",
       " ('excellent', np.int64(84)),\n",
       " ('staff', np.int64(84)),\n",
       " ('line', np.int64(82))]"
      ]
     },
     "execution_count": 107,
     "metadata": {},
     "output_type": "execute_result"
    }
   ],
   "execution_count": 107
  },
  {
   "metadata": {
    "ExecuteTime": {
     "end_time": "2025-05-10T19:45:50.231043Z",
     "start_time": "2025-05-10T19:45:50.225949Z"
    }
   },
   "cell_type": "code",
   "source": [
    "# Vemos las palabras clave del rating 5\n",
    "get_key_words_per_range(df, 5)"
   ],
   "id": "712e466694e594ec",
   "outputs": [
    {
     "data": {
      "text/plain": [
       "[('coffee', np.int64(106)),\n",
       " ('clean', np.int64(61)),\n",
       " ('cold', np.int64(59)),\n",
       " ('noisy', np.int64(55)),\n",
       " ('come', np.int64(54)),\n",
       " ('wifi', np.int64(51)),\n",
       " ('slow', np.int64(51)),\n",
       " ('tasty', np.int64(50)),\n",
       " ('food', np.int64(50)),\n",
       " ('bad', np.int64(50))]"
      ]
     },
     "execution_count": 108,
     "metadata": {},
     "output_type": "execute_result"
    }
   ],
   "execution_count": 108
  }
 ],
 "metadata": {
  "kernelspec": {
   "display_name": "Python 3",
   "language": "python",
   "name": "python3"
  },
  "language_info": {
   "codemirror_mode": {
    "name": "ipython",
    "version": 2
   },
   "file_extension": ".py",
   "mimetype": "text/x-python",
   "name": "python",
   "nbconvert_exporter": "python",
   "pygments_lexer": "ipython2",
   "version": "2.7.6"
  }
 },
 "nbformat": 4,
 "nbformat_minor": 5
}
